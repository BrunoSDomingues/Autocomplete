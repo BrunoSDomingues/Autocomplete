{
 "cells": [
  {
   "cell_type": "code",
   "execution_count": 1,
   "id": "d25f76ff",
   "metadata": {},
   "outputs": [],
   "source": [
    "import dask.dataframe as dd\n",
    "import pandas as pd\n",
    "import glob\n",
    "import re\n",
    "import os"
   ]
  },
  {
   "cell_type": "code",
   "execution_count": 2,
   "id": "95b4cfe3",
   "metadata": {},
   "outputs": [],
   "source": [
    "path = r'/home/brunosd/Documents/Insper/7o_Semestre/NLP/Autocomplete/data'\n",
    "all_files = glob.glob(path + \"/english_sentences*.csv\")\n",
    "\n",
    "# Deletes previous csv files to avoid errors in overwriting\n",
    "for file in all_files:\n",
    "    if os.path.exists(file):\n",
    "        os.remove(file)    "
   ]
  },
  {
   "cell_type": "code",
   "execution_count": 3,
   "id": "d9d3f256",
   "metadata": {},
   "outputs": [],
   "source": [
    "ddf = dd.read_csv(\"data/old-newspaper.tsv\", sep=\"\\t\")\n",
    "df = ddf[ddf[\"Language\"] == \"English\"]\n",
    "df = df[[\"Text\"]]"
   ]
  },
  {
   "cell_type": "code",
   "execution_count": 4,
   "id": "26251fb8",
   "metadata": {},
   "outputs": [
    {
     "data": {
      "text/plain": [
       "['/home/brunosd/Documents/Insper/7o_Semestre/NLP/Autocomplete/data/english_sentences0.csv',\n",
       " '/home/brunosd/Documents/Insper/7o_Semestre/NLP/Autocomplete/data/english_sentences1.csv',\n",
       " '/home/brunosd/Documents/Insper/7o_Semestre/NLP/Autocomplete/data/english_sentences2.csv',\n",
       " '/home/brunosd/Documents/Insper/7o_Semestre/NLP/Autocomplete/data/english_sentences3.csv',\n",
       " '/home/brunosd/Documents/Insper/7o_Semestre/NLP/Autocomplete/data/english_sentences4.csv']"
      ]
     },
     "execution_count": 4,
     "metadata": {},
     "output_type": "execute_result"
    }
   ],
   "source": [
    "# https://stackoverflow.com/questions/47812785/remove-empty-partitions-in-dask\n",
    "def cull_empty_partitions(df):\n",
    "    ll = list(df.map_partitions(len).compute())\n",
    "    df_delayed = df.to_delayed()\n",
    "    df_delayed_new = list()\n",
    "    pempty = None\n",
    "    for ix, n in enumerate(ll):\n",
    "        if 0 == n:\n",
    "            pempty = df.get_partition(ix)\n",
    "        else:\n",
    "            df_delayed_new.append(df_delayed[ix])\n",
    "    if pempty is not None:\n",
    "        df = dd.from_delayed(df_delayed_new, meta=pempty)\n",
    "    return df\n",
    "\n",
    "dd.to_csv(df=cull_empty_partitions(df), filename=\"data/english_sentences*.csv\", index=False)"
   ]
  },
  {
   "cell_type": "code",
   "execution_count": 5,
   "id": "589005d7",
   "metadata": {},
   "outputs": [],
   "source": [
    "# Reset all files after recreating\n",
    "all_files = glob.glob(path + \"/english_sentences*.csv\")\n",
    "\n",
    "# https://stackoverflow.com/questions/20906474/import-multiple-csv-files-into-pandas-and-concatenate-into-one-dataframe\n",
    "li = []\n",
    "\n",
    "for filename in all_files:\n",
    "    df = pd.read_csv(filename, index_col=None, header=0)\n",
    "    li.append(df)\n",
    "\n",
    "data = pd.concat(li, axis=0, ignore_index=True)"
   ]
  },
  {
   "cell_type": "code",
   "execution_count": 6,
   "id": "81c7a4e4",
   "metadata": {},
   "outputs": [],
   "source": [
    "# Transform to string\n",
    "data[\"Text\"] = data[\"Text\"].apply(lambda t: str(t))\n",
    "\n",
    "# Removing urls\n",
    "def limpa_url(texto):\n",
    "    # Regex obtida de https://www.geeksforgeeks.org/python-check-url-string/\n",
    "    pattern = r\"\"\"\n",
    "        (?i)  # Ignore case.\n",
    "        \\b  # Inicio de palavra.\n",
    "        (?:\n",
    "            https?://\n",
    "        |\n",
    "            www\n",
    "            \\d{0,3}\n",
    "            [.]\n",
    "        |\n",
    "            [a-z0-9.\\-]+\n",
    "            [.]\n",
    "            [a-z]{2,4}\n",
    "            /\n",
    "        )\n",
    "        (?:\n",
    "            [^\\s()<>]+\n",
    "        |\n",
    "            \\(\n",
    "            (?:\n",
    "                [^\\s()<>]+\n",
    "            |\n",
    "                \\(\n",
    "                [^\\s()<>]+\n",
    "                \\)\n",
    "            )*\n",
    "            \\)\n",
    "        )+\n",
    "        (?:\n",
    "            \\(\n",
    "            (?:\n",
    "                [^\\s()<>]+\n",
    "            |\n",
    "                \\(\n",
    "                [^\\s()<>]+\n",
    "                \\)\n",
    "            )*\n",
    "            \\)\n",
    "        |\n",
    "            [^\\s`!()\\[\\]{};:'\\\".,<>?«»“”‘’]\n",
    "        )\n",
    "    \"\"\"\n",
    "    repl = \"\"\n",
    "    matcher = re.compile(pattern, re.VERBOSE)\n",
    "    return matcher.sub(repl, texto)\n",
    "\n",
    "data[\"Text\"] = data[\"Text\"].apply(lambda t: limpa_url(t))\n",
    "\n",
    "# Removing sentences that contain \"@, #, $, %, &, *\"\n",
    "data = data[~data[\"Text\"].str.contains(r\"[\\@\\#\\$\\%\\&\\*\\`]\")]\n",
    "\n",
    "# Replacing ? and ! for .\n",
    "data[\"Text\"] = data[\"Text\"].apply(lambda t: t.replace(\"?\", \".\").replace(\"!\", \".\"))\n",
    "\n",
    "# Removing punctuation\n",
    "data[\"Text\"] = data[\"Text\"].apply(lambda t: re.sub(r\"[^\\w\\s\\'\\.]\", \"\", t))\n",
    "\n",
    "# Splitting by . and exploding to generate new rows\n",
    "data[\"Text\"] = data[\"Text\"].apply(lambda t: t.split(\".\"))\n",
    "data = data.explode(\"Text\")\n",
    "\n",
    "# Removing trailing and leading whitespaces\n",
    "data[\"Text\"] = data[\"Text\"].apply(lambda t: t.strip())\n",
    "\n",
    "# Removes tabs, newlines and extra whitespaces\n",
    "data[\"Text\"] = data[\"Text\"].apply(lambda t: t.replace(\"/\\s\\s+/g\", \" \"))\n",
    "\n",
    "# Filtering out empty sentences and sentences that have more than 8 words\n",
    "data = data[(data[\"Text\"] != \"\") & (data[\"Text\"].str.split(\" \").str.len() >= 8)]\n",
    "\n",
    "# Lowercase EVERYTHING\n",
    "data[\"Text\"] = data[\"Text\"].apply(lambda t: t.lower())"
   ]
  },
  {
   "cell_type": "code",
   "execution_count": 7,
   "id": "23ef0dd9",
   "metadata": {
    "scrolled": true
   },
   "outputs": [
    {
     "data": {
      "text/html": [
       "<div>\n",
       "<style scoped>\n",
       "    .dataframe tbody tr th:only-of-type {\n",
       "        vertical-align: middle;\n",
       "    }\n",
       "\n",
       "    .dataframe tbody tr th {\n",
       "        vertical-align: top;\n",
       "    }\n",
       "\n",
       "    .dataframe thead th {\n",
       "        text-align: right;\n",
       "    }\n",
       "</style>\n",
       "<table border=\"1\" class=\"dataframe\">\n",
       "  <thead>\n",
       "    <tr style=\"text-align: right;\">\n",
       "      <th></th>\n",
       "      <th>Text</th>\n",
       "    </tr>\n",
       "  </thead>\n",
       "  <tbody>\n",
       "    <tr>\n",
       "      <th>0</th>\n",
       "      <td>workers had been making cars there since the o...</td>\n",
       "    </tr>\n",
       "    <tr>\n",
       "      <th>1</th>\n",
       "      <td>wsu's plans quickly became a hot topic on loca...</td>\n",
       "    </tr>\n",
       "    <tr>\n",
       "      <th>2</th>\n",
       "      <td>though most people applauded plans for the new...</td>\n",
       "    </tr>\n",
       "    <tr>\n",
       "      <th>3</th>\n",
       "      <td>and when it's often difficult to predict a law...</td>\n",
       "    </tr>\n",
       "    <tr>\n",
       "      <th>4</th>\n",
       "      <td>is it an issue serious enough to merit their a...</td>\n",
       "    </tr>\n",
       "    <tr>\n",
       "      <th>5</th>\n",
       "      <td>will it definitely not make the situation worse</td>\n",
       "    </tr>\n",
       "    <tr>\n",
       "      <th>6</th>\n",
       "      <td>there was a certain amount of scoffing going a...</td>\n",
       "    </tr>\n",
       "    <tr>\n",
       "      <th>7</th>\n",
       "      <td>its just another in a long line of failed atte...</td>\n",
       "    </tr>\n",
       "    <tr>\n",
       "      <th>8</th>\n",
       "      <td>the revel casino hit the jackpot here at gover...</td>\n",
       "    </tr>\n",
       "    <tr>\n",
       "      <th>9</th>\n",
       "      <td>but time and again in the report sullivan call...</td>\n",
       "    </tr>\n",
       "  </tbody>\n",
       "</table>\n",
       "</div>"
      ],
      "text/plain": [
       "                                                Text\n",
       "0  workers had been making cars there since the o...\n",
       "1  wsu's plans quickly became a hot topic on loca...\n",
       "2  though most people applauded plans for the new...\n",
       "3  and when it's often difficult to predict a law...\n",
       "4  is it an issue serious enough to merit their a...\n",
       "5    will it definitely not make the situation worse\n",
       "6  there was a certain amount of scoffing going a...\n",
       "7  its just another in a long line of failed atte...\n",
       "8  the revel casino hit the jackpot here at gover...\n",
       "9  but time and again in the report sullivan call..."
      ]
     },
     "execution_count": 7,
     "metadata": {},
     "output_type": "execute_result"
    }
   ],
   "source": [
    "# Resetting index\n",
    "data.reset_index(inplace=True)\n",
    "\n",
    "# Keeping only text column\n",
    "data = data[[\"Text\"]]\n",
    "\n",
    "# Visualize data\n",
    "data.head(10)"
   ]
  },
  {
   "cell_type": "code",
   "execution_count": 8,
   "id": "fc14f99f",
   "metadata": {},
   "outputs": [],
   "source": [
    "data.to_csv(\"data/english_sentences.csv\", index=False)"
   ]
  },
  {
   "cell_type": "code",
   "execution_count": null,
   "id": "faa9a150",
   "metadata": {},
   "outputs": [],
   "source": []
  }
 ],
 "metadata": {
  "kernelspec": {
   "display_name": "Python 3",
   "language": "python",
   "name": "python3"
  },
  "language_info": {
   "codemirror_mode": {
    "name": "ipython",
    "version": 3
   },
   "file_extension": ".py",
   "mimetype": "text/x-python",
   "name": "python",
   "nbconvert_exporter": "python",
   "pygments_lexer": "ipython3",
   "version": "3.9.5"
  }
 },
 "nbformat": 4,
 "nbformat_minor": 5
}
