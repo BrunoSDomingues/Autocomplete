{
 "cells": [
  {
   "cell_type": "code",
   "execution_count": 1,
   "id": "d25f76ff",
   "metadata": {},
   "outputs": [],
   "source": [
    "import dask.dataframe as dd\n",
    "import pandas as pd\n",
    "import glob\n",
    "import re\n",
    "import os"
   ]
  },
  {
   "cell_type": "code",
   "execution_count": 2,
   "id": "95b4cfe3",
   "metadata": {},
   "outputs": [],
   "source": [
    "path = r'/home/brunosd/Documents/Insper/7o_Semestre/NLP/Autocomplete/data'\n",
    "all_files = glob.glob(path + \"/english_sentences*.csv\")\n",
    "\n",
    "# Deletes previous csv files to avoid errors in overwriting\n",
    "for file in all_files:\n",
    "    if os.path.exists(file):\n",
    "        os.remove(file)    "
   ]
  },
  {
   "cell_type": "code",
   "execution_count": 3,
   "id": "d9d3f256",
   "metadata": {},
   "outputs": [],
   "source": [
    "ddf = dd.read_csv(\"data/old-newspaper.tsv\", sep=\"\\t\")\n",
    "df = ddf[ddf[\"Language\"] == \"English\"]\n",
    "df = df[[\"Text\"]]"
   ]
  },
  {
   "cell_type": "code",
   "execution_count": null,
   "id": "26251fb8",
   "metadata": {},
   "outputs": [],
   "source": [
    "# https://stackoverflow.com/questions/47812785/remove-empty-partitions-in-dask\n",
    "def cull_empty_partitions(df):\n",
    "    ll = list(df.map_partitions(len).compute())\n",
    "    df_delayed = df.to_delayed()\n",
    "    df_delayed_new = list()\n",
    "    pempty = None\n",
    "    for ix, n in enumerate(ll):\n",
    "        if 0 == n:\n",
    "            pempty = df.get_partition(ix)\n",
    "        else:\n",
    "            df_delayed_new.append(df_delayed[ix])\n",
    "    if pempty is not None:\n",
    "        df = dd.from_delayed(df_delayed_new, meta=pempty)\n",
    "    return df\n",
    "\n",
    "dd.to_csv(df=cull_empty_partitions(df), filename=\"data/english_sentences*.csv\", index=False)"
   ]
  },
  {
   "cell_type": "code",
   "execution_count": null,
   "id": "589005d7",
   "metadata": {},
   "outputs": [],
   "source": [
    "# https://stackoverflow.com/questions/20906474/import-multiple-csv-files-into-pandas-and-concatenate-into-one-dataframe\n",
    "li = []\n",
    "\n",
    "for filename in all_files:\n",
    "    df = pd.read_csv(filename, index_col=None, header=0)\n",
    "    li.append(df)\n",
    "\n",
    "data = pd.concat(li, axis=0, ignore_index=True)"
   ]
  },
  {
   "cell_type": "code",
   "execution_count": null,
   "id": "81c7a4e4",
   "metadata": {},
   "outputs": [],
   "source": [
    "# Transform to string\n",
    "data[\"Text\"] = data[\"Text\"].apply(lambda t: str(t))"
   ]
  },
  {
   "cell_type": "code",
   "execution_count": null,
   "id": "f9702a4c",
   "metadata": {},
   "outputs": [],
   "source": [
    "# Removing sentences that contain \"@, #, $, %, &, *\"\n",
    "data = data[~data[\"Text\"].str.contains(r\"[\\@\\#\\$\\%\\&\\*\\`]\")]\n",
    "\n",
    "# Replacing ? and ! for .\n",
    "data[\"Text\"] = data[\"Text\"].apply(lambda t: t.replace(\"?\", \".\").replace(\"!\", \".\"))"
   ]
  },
  {
   "cell_type": "code",
   "execution_count": null,
   "id": "ca752c79",
   "metadata": {},
   "outputs": [],
   "source": [
    "# Removing punctuation\n",
    "data[\"Text\"] = data[\"Text\"].apply(lambda t: re.sub(r\"[^\\w\\s\\'\\.]\", \"\", t))\n",
    "\n",
    "# Splitting by .\n",
    "data[\"Text\"] = data[\"Text\"].apply(lambda t: t.split(\".\"))\n",
    "\n",
    "data = data.explode(\"Text\").reset_index()"
   ]
  },
  {
   "cell_type": "code",
   "execution_count": null,
   "id": "23ef0dd9",
   "metadata": {
    "scrolled": true
   },
   "outputs": [],
   "source": [
    "# Filtering sentences that have more than 8 words\n",
    "data = data[data[\"Text\"].str.split(\" \").str.len() >= 8]\n",
    "\n",
    "# Remove index col\n",
    "data = data[[\"Text\"]]\n",
    "\n",
    "# Visualize data\n",
    "data.head(10)"
   ]
  },
  {
   "cell_type": "code",
   "execution_count": null,
   "id": "fc14f99f",
   "metadata": {},
   "outputs": [],
   "source": [
    "data.to_csv(\"data/english_sentences.csv\", index=False)"
   ]
  },
  {
   "cell_type": "code",
   "execution_count": null,
   "id": "faa9a150",
   "metadata": {},
   "outputs": [],
   "source": []
  }
 ],
 "metadata": {
  "kernelspec": {
   "display_name": "Python 3",
   "language": "python",
   "name": "python3"
  },
  "language_info": {
   "codemirror_mode": {
    "name": "ipython",
    "version": 3
   },
   "file_extension": ".py",
   "mimetype": "text/x-python",
   "name": "python",
   "nbconvert_exporter": "python",
   "pygments_lexer": "ipython3",
   "version": "3.9.5"
  }
 },
 "nbformat": 4,
 "nbformat_minor": 5
}
